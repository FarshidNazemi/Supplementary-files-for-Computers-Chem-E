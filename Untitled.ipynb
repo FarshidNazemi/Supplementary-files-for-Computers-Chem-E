{
 "cells": [
  {
   "cell_type": "markdown",
   "id": "15b0d524-4ca1-41d0-aa1e-b528675a4633",
   "metadata": {},
   "source": [
    "# Importing packages and files"
   ]
  },
  {
   "cell_type": "code",
   "execution_count": null,
   "id": "0262c01f-a5d1-431d-a5d2-89190a29aff4",
   "metadata": {},
   "outputs": [],
   "source": [
    "from importlib import reload\n",
    "import Scenario\n",
    "import Technology\n",
    "import statistics\n",
    "from pathlib import Path\n",
    "reload(Scenario)\n",
    "reload(Technology)\n",
    "import numpy as np\n",
    "import pandas as pd\n",
    "import math\n",
    "import matplotlib.pyplot as plt\n",
    "import copy\n",
    "import sys\n",
    "import plotly.graph_objects as go\n",
    "from Scenario import Scenario\n",
    "from Technology import Technology\n",
    "import requests\n",
    "from io import StringIO\n",
    "from scipy.special import logsumexp\n",
    "from pyomo.environ import *\n",
    "from pyomo.environ import RangeSet\n",
    "from pyomo.environ import value"
   ]
  },
  {
   "cell_type": "code",
   "execution_count": null,
   "id": "4b1aeb1d-9cde-47dd-815e-0923347849bd",
   "metadata": {},
   "outputs": [],
   "source": []
  }
 ],
 "metadata": {
  "kernelspec": {
   "display_name": "Python 3 (ipykernel)",
   "language": "python",
   "name": "python3"
  },
  "language_info": {
   "codemirror_mode": {
    "name": "ipython",
    "version": 3
   },
   "file_extension": ".py",
   "mimetype": "text/x-python",
   "name": "python",
   "nbconvert_exporter": "python",
   "pygments_lexer": "ipython3",
   "version": "3.9.13"
  }
 },
 "nbformat": 4,
 "nbformat_minor": 5
}
