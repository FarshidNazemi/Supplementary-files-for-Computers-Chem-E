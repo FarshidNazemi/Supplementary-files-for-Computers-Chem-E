{
 "cells": [
  {
   "cell_type": "markdown",
   "id": "15b0d524-4ca1-41d0-aa1e-b528675a4633",
   "metadata": {},
   "source": [
    "# Importing packages and files"
   ]
  },
  {
   "cell_type": "code",
   "execution_count": 1,
   "id": "0262c01f-a5d1-431d-a5d2-89190a29aff4",
   "metadata": {},
   "outputs": [],
   "source": [
    "from importlib import reload\n",
    "import Scenario\n",
    "import Technology\n",
    "import statistics\n",
    "from pathlib import Path\n",
    "reload(Scenario)\n",
    "reload(Technology)\n",
    "import numpy as np\n",
    "import pandas as pd\n",
    "import math\n",
    "import matplotlib.pyplot as plt\n",
    "import copy\n",
    "import sys\n",
    "import plotly.graph_objects as go\n",
    "from Scenario import Scenario\n",
    "from Technology import Technology\n",
    "import requests\n",
    "from io import StringIO\n",
    "from scipy.special import logsumexp\n",
    "from pyomo.environ import *\n",
    "from pyomo.environ import RangeSet\n",
    "from pyomo.environ import value"
   ]
  },
  {
   "cell_type": "code",
   "execution_count": 2,
   "id": "4b1aeb1d-9cde-47dd-815e-0923347849bd",
   "metadata": {},
   "outputs": [],
   "source": [
    "data_path = 'data'"
   ]
  },
  {
   "cell_type": "code",
   "execution_count": null,
   "id": "af8f2228-ed66-4b8c-baec-d752ffbd3fc9",
   "metadata": {},
   "outputs": [],
   "source": [
    "savefigs = True"
   ]
  },
  {
   "cell_type": "markdown",
   "id": "0218fc98-948b-4875-84bb-1f4c59d18134",
   "metadata": {},
   "source": [
    "# Constructing numerical matrices and vectors for LCA and TEA"
   ]
  },
  {
   "cell_type": "code",
   "execution_count": null,
   "id": "171570e1-d29c-4b8b-ab4b-5b5969953801",
   "metadata": {},
   "outputs": [],
   "source": [
    "# Helper to read a CSV from a public GitHub raw URL\n",
    "def read_csv_public(url: str) -> pd.DataFrame:\n",
    "    \"\"\"Load a CSV hosted on a public GitHub raw link.\"\"\"\n",
    "    return pd.read_csv(url, header=None)\n",
    "\n",
    "# Data locations\n",
    "A_url = \"https://raw.githubusercontent.com/FarshidNazemi/barrier-film-software/refs/heads/main/data/REMADE-tool-A.csv\"\n",
    "B_url = \"https://raw.githubusercontent.com/FarshidNazemi/barrier-film-software/refs/heads/main/data/REMADE-tool-B.csv\"\n",
    "C_url = \"https://raw.githubusercontent.com/FarshidNazemi/barrier-film-software/refs/heads/main/data/REMADE-tool-C.csv\"\n",
    "\n",
    "# Read data\n",
    "A_df_org    = read_csv_public(A_url)\n",
    "A_df_design = A_df_org.copy()\n",
    "A_df        = A_df_org.copy()\n",
    "\n",
    "B_df_org    = read_csv_public(B_url)\n",
    "B_df_design = B_df_org.copy()\n",
    "B_df        = B_df_org.copy()\n",
    "\n",
    "C_df_org    = read_csv_public(C_url)\n",
    "C_df_design = C_df_org.copy()\n",
    "C_df        = C_df_org.copy()"
   ]
  }
 ],
 "metadata": {
  "kernelspec": {
   "display_name": "Python 3 (ipykernel)",
   "language": "python",
   "name": "python3"
  },
  "language_info": {
   "codemirror_mode": {
    "name": "ipython",
    "version": 3
   },
   "file_extension": ".py",
   "mimetype": "text/x-python",
   "name": "python",
   "nbconvert_exporter": "python",
   "pygments_lexer": "ipython3",
   "version": "3.9.13"
  }
 },
 "nbformat": 4,
 "nbformat_minor": 5
}
